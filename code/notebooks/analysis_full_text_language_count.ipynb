{
 "cells": [
  {
   "cell_type": "code",
   "execution_count": 1,
   "metadata": {},
   "outputs": [
    {
     "name": "stdout",
     "output_type": "stream",
     "text": [
      "INFO: Pandarallel will run on 40 workers.\n",
      "INFO: Pandarallel will use Memory file system to transfer data between the main process and workers.\n"
     ]
    }
   ],
   "source": [
    "from datasets import load_dataset\n",
    "from tqdm import tqdm\n",
    "import pandas as pd\n",
    "import glob\n",
    "import os\n",
    "import numpy as np\n",
    "import seaborn as sns\n",
    "import matplotlib.pyplot as plt\n",
    "from pandarallel import pandarallel\n",
    "import spacy\n",
    "\n",
    "pandarallel.initialize(progress_bar=True)"
   ]
  },
  {
   "cell_type": "code",
   "execution_count": 2,
   "metadata": {},
   "outputs": [],
   "source": [
    "df_v = pd.read_parquet(\"acl_corpus_full-text.parquet\")"
   ]
  },
  {
   "cell_type": "code",
   "execution_count": 3,
   "metadata": {},
   "outputs": [
    {
     "data": {
      "text/html": [
       "<div>\n",
       "<style scoped>\n",
       "    .dataframe tbody tr th:only-of-type {\n",
       "        vertical-align: middle;\n",
       "    }\n",
       "\n",
       "    .dataframe tbody tr th {\n",
       "        vertical-align: top;\n",
       "    }\n",
       "\n",
       "    .dataframe thead th {\n",
       "        text-align: right;\n",
       "    }\n",
       "</style>\n",
       "<table border=\"1\" class=\"dataframe\">\n",
       "  <thead>\n",
       "    <tr style=\"text-align: right;\">\n",
       "      <th></th>\n",
       "      <th>acl_id</th>\n",
       "      <th>title</th>\n",
       "      <th>abstract</th>\n",
       "      <th>full_text</th>\n",
       "    </tr>\n",
       "  </thead>\n",
       "  <tbody>\n",
       "    <tr>\n",
       "      <th>0</th>\n",
       "      <td>O02-2002</td>\n",
       "      <td>A Study on Word Similarity using Context Vecto...</td>\n",
       "      <td>There is a need to measure word similarity whe...</td>\n",
       "      <td>There is a need to measure word similarity whe...</td>\n",
       "    </tr>\n",
       "    <tr>\n",
       "      <th>1</th>\n",
       "      <td>L02-1310</td>\n",
       "      <td></td>\n",
       "      <td></td>\n",
       "      <td></td>\n",
       "    </tr>\n",
       "    <tr>\n",
       "      <th>2</th>\n",
       "      <td>R13-1042</td>\n",
       "      <td>Headerless, Quoteless, but not Hopeless? Using...</td>\n",
       "      <td>Thread disentanglement is the task of separati...</td>\n",
       "      <td>Thread disentanglement is the task of separati...</td>\n",
       "    </tr>\n",
       "    <tr>\n",
       "      <th>3</th>\n",
       "      <td>W05-0819</td>\n",
       "      <td>Aligning words in English-Hindi parallel corpora</td>\n",
       "      <td>In this paper, we describe a word alignment al...</td>\n",
       "      <td>In this paper, we describe a word alignment al...</td>\n",
       "    </tr>\n",
       "    <tr>\n",
       "      <th>4</th>\n",
       "      <td>L02-1309</td>\n",
       "      <td></td>\n",
       "      <td></td>\n",
       "      <td></td>\n",
       "    </tr>\n",
       "    <tr>\n",
       "      <th>...</th>\n",
       "      <td>...</td>\n",
       "      <td>...</td>\n",
       "      <td>...</td>\n",
       "      <td>...</td>\n",
       "    </tr>\n",
       "    <tr>\n",
       "      <th>80008</th>\n",
       "      <td>P99-1056</td>\n",
       "      <td>The grapho-phonological system of written Fren...</td>\n",
       "      <td>The processes through which readers evoke ment...</td>\n",
       "      <td>The processes through which readers evoke ment...</td>\n",
       "    </tr>\n",
       "    <tr>\n",
       "      <th>80009</th>\n",
       "      <td>P99-1051</td>\n",
       "      <td>Acquiring Lexical Generalizations from Corpora...</td>\n",
       "      <td>This paper examines the extent to which verb d...</td>\n",
       "      <td>This paper examines the extent to which verb d...</td>\n",
       "    </tr>\n",
       "    <tr>\n",
       "      <th>80010</th>\n",
       "      <td>P99-1000</td>\n",
       "      <td>Using Aggregation for Selecting Content when G...</td>\n",
       "      <td>As co-chairs, we had two particular objectives...</td>\n",
       "      <td>As co-chairs, we had two particular objectives...</td>\n",
       "    </tr>\n",
       "    <tr>\n",
       "      <th>80011</th>\n",
       "      <td>P99-1</td>\n",
       "      <td></td>\n",
       "      <td></td>\n",
       "      <td></td>\n",
       "    </tr>\n",
       "    <tr>\n",
       "      <th>80012</th>\n",
       "      <td>P00-1013</td>\n",
       "      <td>Spoken Dialogue Management Using Probabilistic...</td>\n",
       "      <td>Spoken dialogue managers have benefited from u...</td>\n",
       "      <td>Spoken dialogue managers have benefited from u...</td>\n",
       "    </tr>\n",
       "  </tbody>\n",
       "</table>\n",
       "<p>80013 rows × 4 columns</p>\n",
       "</div>"
      ],
      "text/plain": [
       "         acl_id                                              title  \\\n",
       "0      O02-2002  A Study on Word Similarity using Context Vecto...   \n",
       "1      L02-1310                                                      \n",
       "2      R13-1042  Headerless, Quoteless, but not Hopeless? Using...   \n",
       "3      W05-0819   Aligning words in English-Hindi parallel corpora   \n",
       "4      L02-1309                                                      \n",
       "...         ...                                                ...   \n",
       "80008  P99-1056  The grapho-phonological system of written Fren...   \n",
       "80009  P99-1051  Acquiring Lexical Generalizations from Corpora...   \n",
       "80010  P99-1000  Using Aggregation for Selecting Content when G...   \n",
       "80011     P99-1                                                      \n",
       "80012  P00-1013  Spoken Dialogue Management Using Probabilistic...   \n",
       "\n",
       "                                                abstract  \\\n",
       "0      There is a need to measure word similarity whe...   \n",
       "1                                                          \n",
       "2      Thread disentanglement is the task of separati...   \n",
       "3      In this paper, we describe a word alignment al...   \n",
       "4                                                          \n",
       "...                                                  ...   \n",
       "80008  The processes through which readers evoke ment...   \n",
       "80009  This paper examines the extent to which verb d...   \n",
       "80010  As co-chairs, we had two particular objectives...   \n",
       "80011                                                      \n",
       "80012  Spoken dialogue managers have benefited from u...   \n",
       "\n",
       "                                               full_text  \n",
       "0      There is a need to measure word similarity whe...  \n",
       "1                                                         \n",
       "2      Thread disentanglement is the task of separati...  \n",
       "3      In this paper, we describe a word alignment al...  \n",
       "4                                                         \n",
       "...                                                  ...  \n",
       "80008  The processes through which readers evoke ment...  \n",
       "80009  This paper examines the extent to which verb d...  \n",
       "80010  As co-chairs, we had two particular objectives...  \n",
       "80011                                                     \n",
       "80012  Spoken dialogue managers have benefited from u...  \n",
       "\n",
       "[80013 rows x 4 columns]"
      ]
     },
     "execution_count": 3,
     "metadata": {},
     "output_type": "execute_result"
    }
   ],
   "source": [
    "df_v"
   ]
  },
  {
   "cell_type": "code",
   "execution_count": 4,
   "metadata": {},
   "outputs": [
    {
     "data": {
      "text/plain": [
       "0.8051441640733381"
      ]
     },
     "execution_count": 4,
     "metadata": {},
     "output_type": "execute_result"
    }
   ],
   "source": [
    "64422/80013"
   ]
  },
  {
   "cell_type": "code",
   "execution_count": 3,
   "metadata": {},
   "outputs": [],
   "source": [
    "df_v\n",
    "\n",
    "# change empty string to None \n",
    "df_v = df_v.replace(r'^\\s*$', np.nan, regex=True)\n",
    "# df_v = df_v.dropna()"
   ]
  },
  {
   "cell_type": "code",
   "execution_count": 4,
   "metadata": {},
   "outputs": [
    {
     "data": {
      "text/plain": [
       "'ko'"
      ]
     },
     "execution_count": 4,
     "metadata": {},
     "output_type": "execute_result"
    }
   ],
   "source": [
    "from langdetect import detect\n",
    "detect(\"动 动 动词 词 词句 句 句法 法 法\")"
   ]
  },
  {
   "cell_type": "code",
   "execution_count": 5,
   "metadata": {},
   "outputs": [],
   "source": [
    "import spacy_fastlang\n",
    "\n",
    "nlp = spacy.load(\"en_core_web_sm\")\n",
    "nlp.add_pipe(\"language_detector\")\n",
    "doc = nlp('Life is like a box of chocolates. You never know what you are gonna get.')\n",
    "\n",
    "assert doc._.language == 'en'\n",
    "assert doc._.language_score >= 0.8"
   ]
  },
  {
   "cell_type": "code",
   "execution_count": 6,
   "metadata": {},
   "outputs": [
    {
     "data": {
      "text/plain": [
       "'zh'"
      ]
     },
     "execution_count": 6,
     "metadata": {},
     "output_type": "execute_result"
    }
   ],
   "source": [
    "doc = nlp('动 动 动词 词 词句 句 句法 法 法')\n",
    "doc._.language"
   ]
  },
  {
   "cell_type": "code",
   "execution_count": 7,
   "metadata": {},
   "outputs": [
    {
     "data": {
      "application/vnd.jupyter.widget-view+json": {
       "model_id": "bf19773a05914349a605ff6ba86272bb",
       "version_major": 2,
       "version_minor": 0
      },
      "text/plain": [
       "VBox(children=(HBox(children=(IntProgress(value=0, description='0.00%', max=2001), Label(value='0 / 2001'))), …"
      ]
     },
     "metadata": {},
     "output_type": "display_data"
    }
   ],
   "source": [
    "def return_language(text):\n",
    "    if text:\n",
    "        try:\n",
    "            return nlp(text)._.language\n",
    "        except:\n",
    "            return None\n",
    "    else:\n",
    "        return\n",
    "\n",
    "tqdm.pandas()\n",
    "df_v[\"language_detected\"] = df_v[\"title\"].parallel_apply(return_language)"
   ]
  },
  {
   "cell_type": "code",
   "execution_count": 8,
   "metadata": {},
   "outputs": [
    {
     "data": {
      "text/plain": [
       "sco        1\n",
       "bh         1\n",
       "tt         1\n",
       "br         1\n",
       "fy         1\n",
       "       ...  \n",
       "es       217\n",
       "zh       250\n",
       "ja       271\n",
       "fr      2216\n",
       "en     64422\n",
       "Name: language_detected, Length: 96, dtype: int64"
      ]
     },
     "execution_count": 8,
     "metadata": {},
     "output_type": "execute_result"
    }
   ],
   "source": [
    "df_v[\"language_detected\"].value_counts().sort_values()\n"
   ]
  },
  {
   "cell_type": "code",
   "execution_count": 9,
   "metadata": {},
   "outputs": [],
   "source": [
    "dict_langs = {\n",
    "  \"af\": \"Afrikaans\",\n",
    "  \"sq\": \"Albanian\",\n",
    "  \"ar\": \"Arabic\",\n",
    "  \"bn\": \"Bengali\",\n",
    "  \"bs\": \"Bosnian\",\n",
    "  \"bg\": \"Bulgarian\",\n",
    "  \"ca\": \"Catalan\",\n",
    "  \"hr\": \"Croatian\",\n",
    "  \"cs\": \"Czech\",\n",
    "  \"da\": \"Danish\",\n",
    "  \"nl\": \"Dutch\",\n",
    "  \"en\": \"English\",\n",
    "  \"et\": \"Estonian\",\n",
    "  \"tl\": \"Filipino\",\n",
    "  \"fi\": \"Finnish\",\n",
    "  \"fr\": \"French\",\n",
    "  \"de\": \"German\",\n",
    "  \"el\": \"Greek\",\n",
    "  \"gu\": \"Gujarati\",\n",
    "  \"hi\": \"Hindi\",\n",
    "  \"hu\": \"Hungarian\",\n",
    "  \"is\": \"Icelandic\",\n",
    "  \"id\": \"Indonesian\",\n",
    "  \"ga\": \"Irish\",\n",
    "  \"it\": \"Italian\",\n",
    "  \"ja\": \"Japanese\",\n",
    "  \"jv\": \"Javanese\",\n",
    "  \"kn\": \"Kannada\",\n",
    "  \"kk\": \"Kazakh\",\n",
    "  \"km\": \"Khmer\",\n",
    "  \"ko\": \"Korean\",\n",
    "  \"lo\": \"Lao\",\n",
    "  \"la\": \"Latin\",\n",
    "  \"lv\": \"Latvian\",\n",
    "  \"lt\": \"Lithuanian\",\n",
    "  \"mk\": \"Macedonian\",\n",
    "  \"mg\": \"Malagasy\",\n",
    "  \"ms\": \"Malay\",\n",
    "  \"ml\": \"Malayalam\",\n",
    "  \"mt\": \"Maltese\",\n",
    "  \"mi\": \"Maori\",\n",
    "  \"mr\": \"Marathi\",\n",
    "  \"mn\": \"Mongolian\",\n",
    "  \"my\": \"Burmese\",\n",
    "  \"ne\": \"Nepali\",\n",
    "  \"no\": \"Norwegian\",\n",
    "  \"or\": \"Oriya\",\n",
    "  \"ps\": \"Pashto\",\n",
    "  \"fa\": \"Persian\",\n",
    "  \"pl\": \"Polish\",\n",
    "  \"pt\": \"Portuguese\",\n",
    "  \"pa\": \"Punjabi\",\n",
    "  \"ro\": \"Romanian\",\n",
    "  \"ru\": \"Russian\",\n",
    "  \"sr\": \"Serbian\",\n",
    "  \"sk\": \"Slovak\",\n",
    "  \"sl\": \"Slovenian\",\n",
    "  \"so\": \"Somali\",\n",
    "  \"es\": \"Spanish\",\n",
    "  \"su\": \"Sundanese\",\n",
    "  \"sw\": \"Swahili\",\n",
    "  \"sv\": \"Swedish\",\n",
    "  \"ta\": \"Tamil\",\n",
    "  \"te\": \"Telugu\",\n",
    "  \"th\": \"Thai\",\n",
    "  \"tr\": \"Turkish\",\n",
    "  \"uk\": \"Ukrainian\",\n",
    "  \"ur\": \"Urdu\",\n",
    "  \"uz\": \"Uzbek\",\n",
    "  \"vi\": \"Vietnamese\",\n",
    "  \"cy\": \"Welsh\",\n",
    "  \"xh\": \"Xhosa\",\n",
    "  \"yi\": \"Yiddish\",\n",
    "  \"yo\": \"Yoruba\",\n",
    "  \"zu\": \"Zulu\",\n",
    "  \"zh\": \"Chinese\",\n",
    "}\n"
   ]
  },
  {
   "cell_type": "code",
   "execution_count": 11,
   "metadata": {},
   "outputs": [
    {
     "data": {
      "image/svg+xml": [
       "<svg class=\"main-svg\" xmlns=\"http://www.w3.org/2000/svg\" xmlns:xlink=\"http://www.w3.org/1999/xlink\" width=\"700\" height=\"500\" style=\"\" viewBox=\"0 0 700 500\"><rect x=\"0\" y=\"0\" width=\"700\" height=\"500\" style=\"fill: rgb(255, 255, 255); fill-opacity: 1;\"/><defs id=\"defs-b43269\"><g class=\"clips\"><clipPath id=\"clipb43269xyplot\" class=\"plotclip\"><rect width=\"540\" height=\"302\"/></clipPath><clipPath class=\"axesclip\" id=\"clipb43269x\"><rect x=\"80\" y=\"0\" width=\"540\" height=\"500\"/></clipPath><clipPath class=\"axesclip\" id=\"clipb43269y\"><rect x=\"0\" y=\"100\" width=\"700\" height=\"302\"/></clipPath><clipPath class=\"axesclip\" id=\"clipb43269xy\"><rect x=\"80\" y=\"100\" width=\"540\" height=\"302\"/></clipPath></g><g class=\"gradients\"/><g class=\"patterns\"/></defs><g class=\"bglayer\"><rect class=\"bg\" x=\"80\" y=\"100\" width=\"540\" height=\"302\" style=\"fill: rgb(229, 236, 246); fill-opacity: 1; stroke-width: 0;\"/></g><g class=\"layer-below\"><g class=\"imagelayer\"/><g class=\"shapelayer\"/></g><g class=\"cartesianlayer\"><g class=\"subplot xy\"><g class=\"layer-subplot\"><g class=\"shapelayer\"/><g class=\"imagelayer\"/></g><g class=\"minor-gridlayer\"><g class=\"x\"/><g class=\"y\"/></g><g class=\"gridlayer\"><g class=\"x\"/><g class=\"y\"><path class=\"ygrid crisp\" transform=\"translate(0,386.9)\" d=\"M80,0h540\" style=\"stroke: rgb(255, 255, 255); stroke-opacity: 1; stroke-width: 1px;\"/><path class=\"ygrid crisp\" transform=\"translate(0,365.42)\" d=\"M80,0h540\" style=\"stroke: rgb(255, 255, 255); stroke-opacity: 1; stroke-width: 1px;\"/><path class=\"ygrid crisp\" transform=\"translate(0,337.02)\" d=\"M80,0h540\" style=\"stroke: rgb(255, 255, 255); stroke-opacity: 1; stroke-width: 1px;\"/><path class=\"ygrid crisp\" transform=\"translate(0,315.53999999999996)\" d=\"M80,0h540\" style=\"stroke: rgb(255, 255, 255); stroke-opacity: 1; stroke-width: 1px;\"/><path class=\"ygrid crisp\" transform=\"translate(0,294.06)\" d=\"M80,0h540\" style=\"stroke: rgb(255, 255, 255); stroke-opacity: 1; stroke-width: 1px;\"/><path class=\"ygrid crisp\" transform=\"translate(0,265.66999999999996)\" d=\"M80,0h540\" style=\"stroke: rgb(255, 255, 255); stroke-opacity: 1; stroke-width: 1px;\"/><path class=\"ygrid crisp\" transform=\"translate(0,244.19)\" d=\"M80,0h540\" style=\"stroke: rgb(255, 255, 255); stroke-opacity: 1; stroke-width: 1px;\"/><path class=\"ygrid crisp\" transform=\"translate(0,222.70999999999998)\" d=\"M80,0h540\" style=\"stroke: rgb(255, 255, 255); stroke-opacity: 1; stroke-width: 1px;\"/><path class=\"ygrid crisp\" transform=\"translate(0,194.31)\" d=\"M80,0h540\" style=\"stroke: rgb(255, 255, 255); stroke-opacity: 1; stroke-width: 1px;\"/><path class=\"ygrid crisp\" transform=\"translate(0,172.82999999999998)\" d=\"M80,0h540\" style=\"stroke: rgb(255, 255, 255); stroke-opacity: 1; stroke-width: 1px;\"/><path class=\"ygrid crisp\" transform=\"translate(0,151.35)\" d=\"M80,0h540\" style=\"stroke: rgb(255, 255, 255); stroke-opacity: 1; stroke-width: 1px;\"/><path class=\"ygrid crisp\" transform=\"translate(0,122.95)\" d=\"M80,0h540\" style=\"stroke: rgb(255, 255, 255); stroke-opacity: 1; stroke-width: 1px;\"/><path class=\"ygrid crisp\" transform=\"translate(0,101.47)\" d=\"M80,0h540\" style=\"stroke: rgb(255, 255, 255); stroke-opacity: 1; stroke-width: 1px;\"/></g></g><g class=\"zerolinelayer\"/><path class=\"xlines-below\"/><path class=\"ylines-below\"/><g class=\"overlines-below\"/><g class=\"xaxislayer-below\"/><g class=\"yaxislayer-below\"/><g class=\"overaxes-below\"/><g class=\"plot\" transform=\"translate(80,100)\" clip-path=\"url(#clipb43269xyplot)\"><g class=\"barlayer mlayer\"><g class=\"trace bars\" style=\"opacity: 1;\"><g class=\"points\"><g class=\"point\"><path d=\"M2,3171V286.9H18V3171Z\" style=\"vector-effect: non-scaling-stroke; opacity: 1; stroke-width: 0.5px; fill: rgb(99, 110, 250); fill-opacity: 1; stroke: rgb(229, 236, 246); stroke-opacity: 1;\"/></g><g class=\"point\"><path d=\"M22,3171V286.9H38V3171Z\" style=\"vector-effect: non-scaling-stroke; opacity: 1; stroke-width: 0.5px; fill: rgb(99, 110, 250); fill-opacity: 1; stroke: rgb(229, 236, 246); stroke-opacity: 1;\"/></g><g class=\"point\"><path d=\"M42,3171V286.9H58V3171Z\" style=\"vector-effect: non-scaling-stroke; opacity: 1; stroke-width: 0.5px; fill: rgb(99, 110, 250); fill-opacity: 1; stroke: rgb(229, 236, 246); stroke-opacity: 1;\"/></g><g class=\"point\"><path d=\"M62,3171V286.9H78V3171Z\" style=\"vector-effect: non-scaling-stroke; opacity: 1; stroke-width: 0.5px; fill: rgb(99, 110, 250); fill-opacity: 1; stroke: rgb(229, 236, 246); stroke-opacity: 1;\"/></g><g class=\"point\"><path d=\"M82,3171V283.95H98V3171Z\" style=\"vector-effect: non-scaling-stroke; opacity: 1; stroke-width: 0.5px; fill: rgb(99, 110, 250); fill-opacity: 1; stroke: rgb(229, 236, 246); stroke-opacity: 1;\"/></g><g class=\"point\"><path d=\"M102,3171V281.25H118V3171Z\" style=\"vector-effect: non-scaling-stroke; opacity: 1; stroke-width: 0.5px; fill: rgb(99, 110, 250); fill-opacity: 1; stroke: rgb(229, 236, 246); stroke-opacity: 1;\"/></g><g class=\"point\"><path d=\"M122,3171V278.77H138V3171Z\" style=\"vector-effect: non-scaling-stroke; opacity: 1; stroke-width: 0.5px; fill: rgb(99, 110, 250); fill-opacity: 1; stroke: rgb(229, 236, 246); stroke-opacity: 1;\"/></g><g class=\"point\"><path d=\"M142,3171V278.77H158V3171Z\" style=\"vector-effect: non-scaling-stroke; opacity: 1; stroke-width: 0.5px; fill: rgb(99, 110, 250); fill-opacity: 1; stroke: rgb(229, 236, 246); stroke-opacity: 1;\"/></g><g class=\"point\"><path d=\"M162,3171V276.47H178V3171Z\" style=\"vector-effect: non-scaling-stroke; opacity: 1; stroke-width: 0.5px; fill: rgb(99, 110, 250); fill-opacity: 1; stroke: rgb(229, 236, 246); stroke-opacity: 1;\"/></g><g class=\"point\"><path d=\"M0,0Z\" style=\"vector-effect: non-scaling-stroke; opacity: 1; stroke-width: 0px; fill: rgb(99, 110, 250); fill-opacity: 1; stroke: rgb(229, 236, 246); stroke-opacity: 1;\"/></g><g class=\"point\"><path d=\"M182,3171V276.47H198V3171Z\" style=\"vector-effect: non-scaling-stroke; opacity: 1; stroke-width: 0.5px; fill: rgb(99, 110, 250); fill-opacity: 1; stroke: rgb(229, 236, 246); stroke-opacity: 1;\"/></g><g class=\"point\"><path d=\"M0,0Z\" style=\"vector-effect: non-scaling-stroke; opacity: 1; stroke-width: 0px; fill: rgb(99, 110, 250); fill-opacity: 1; stroke: rgb(229, 236, 246); stroke-opacity: 1;\"/></g><g class=\"point\"><path d=\"M202,3171V268.68H218V3171Z\" style=\"vector-effect: non-scaling-stroke; opacity: 1; stroke-width: 0.5px; fill: rgb(99, 110, 250); fill-opacity: 1; stroke: rgb(229, 236, 246); stroke-opacity: 1;\"/></g><g class=\"point\"><path d=\"M222,3171V262.47H238V3171Z\" style=\"vector-effect: non-scaling-stroke; opacity: 1; stroke-width: 0.5px; fill: rgb(99, 110, 250); fill-opacity: 1; stroke: rgb(229, 236, 246); stroke-opacity: 1;\"/></g><g class=\"point\"><path d=\"M242,3171V258.5H258V3171Z\" style=\"vector-effect: non-scaling-stroke; opacity: 1; stroke-width: 0.5px; fill: rgb(99, 110, 250); fill-opacity: 1; stroke: rgb(229, 236, 246); stroke-opacity: 1;\"/></g><g class=\"point\"><path d=\"M262,3171V254.99H278V3171Z\" style=\"vector-effect: non-scaling-stroke; opacity: 1; stroke-width: 0.5px; fill: rgb(99, 110, 250); fill-opacity: 1; stroke: rgb(229, 236, 246); stroke-opacity: 1;\"/></g><g class=\"point\"><path d=\"M282,3171V253.9H298V3171Z\" style=\"vector-effect: non-scaling-stroke; opacity: 1; stroke-width: 0.5px; fill: rgb(99, 110, 250); fill-opacity: 1; stroke: rgb(229, 236, 246); stroke-opacity: 1;\"/></g><g class=\"point\"><path d=\"M302,3171V249.9H318V3171Z\" style=\"vector-effect: non-scaling-stroke; opacity: 1; stroke-width: 0.5px; fill: rgb(99, 110, 250); fill-opacity: 1; stroke: rgb(229, 236, 246); stroke-opacity: 1;\"/></g><g class=\"point\"><path d=\"M322,3171V248.98H338V3171Z\" style=\"vector-effect: non-scaling-stroke; opacity: 1; stroke-width: 0.5px; fill: rgb(99, 110, 250); fill-opacity: 1; stroke: rgb(229, 236, 246); stroke-opacity: 1;\"/></g><g class=\"point\"><path d=\"M342,3171V245.53H358V3171Z\" style=\"vector-effect: non-scaling-stroke; opacity: 1; stroke-width: 0.5px; fill: rgb(99, 110, 250); fill-opacity: 1; stroke: rgb(229, 236, 246); stroke-opacity: 1;\"/></g><g class=\"point\"><path d=\"M362,3171V243.94H378V3171Z\" style=\"vector-effect: non-scaling-stroke; opacity: 1; stroke-width: 0.5px; fill: rgb(99, 110, 250); fill-opacity: 1; stroke: rgb(229, 236, 246); stroke-opacity: 1;\"/></g><g class=\"point\"><path d=\"M382,3171V215.23H398V3171Z\" style=\"vector-effect: non-scaling-stroke; opacity: 1; stroke-width: 0.5px; fill: rgb(99, 110, 250); fill-opacity: 1; stroke: rgb(229, 236, 246); stroke-opacity: 1;\"/></g><g class=\"point\"><path d=\"M402,3171V198.92H418V3171Z\" style=\"vector-effect: non-scaling-stroke; opacity: 1; stroke-width: 0.5px; fill: rgb(99, 110, 250); fill-opacity: 1; stroke: rgb(229, 236, 246); stroke-opacity: 1;\"/></g><g class=\"point\"><path d=\"M422,3171V191.82H438V3171Z\" style=\"vector-effect: non-scaling-stroke; opacity: 1; stroke-width: 0.5px; fill: rgb(99, 110, 250); fill-opacity: 1; stroke: rgb(229, 236, 246); stroke-opacity: 1;\"/></g><g class=\"point\"><path d=\"M442,3171V191.53H458V3171Z\" style=\"vector-effect: non-scaling-stroke; opacity: 1; stroke-width: 0.5px; fill: rgb(99, 110, 250); fill-opacity: 1; stroke: rgb(229, 236, 246); stroke-opacity: 1;\"/></g><g class=\"point\"><path d=\"M462,3171V187.15H478V3171Z\" style=\"vector-effect: non-scaling-stroke; opacity: 1; stroke-width: 0.5px; fill: rgb(99, 110, 250); fill-opacity: 1; stroke: rgb(229, 236, 246); stroke-opacity: 1;\"/></g><g class=\"point\"><path d=\"M482,3171V184.65H498V3171Z\" style=\"vector-effect: non-scaling-stroke; opacity: 1; stroke-width: 0.5px; fill: rgb(99, 110, 250); fill-opacity: 1; stroke: rgb(229, 236, 246); stroke-opacity: 1;\"/></g><g class=\"point\"><path d=\"M502,3171V119.53H518V3171Z\" style=\"vector-effect: non-scaling-stroke; opacity: 1; stroke-width: 0.5px; fill: rgb(99, 110, 250); fill-opacity: 1; stroke: rgb(229, 236, 246); stroke-opacity: 1;\"/></g><g class=\"point\"><path d=\"M522,3171V15.1H538V3171Z\" style=\"vector-effect: non-scaling-stroke; opacity: 1; stroke-width: 0.5px; fill: rgb(99, 110, 250); fill-opacity: 1; stroke: rgb(229, 236, 246); stroke-opacity: 1;\"/></g></g></g></g></g><g class=\"overplot\"/><path class=\"xlines-above crisp\" d=\"M0,0\" style=\"fill: none;\"/><path class=\"ylines-above crisp\" d=\"M0,0\" style=\"fill: none;\"/><g class=\"overlines-above\"/><g class=\"xaxislayer-above\"><g class=\"xtick\"><text text-anchor=\"start\" x=\"0\" y=\"415\" transform=\"translate(90,0) rotate(45,0,409)\" style=\"font-family: 'Open Sans', verdana, arial, sans-serif; font-size: 12px; fill: rgb(42, 63, 95); fill-opacity: 1; white-space: pre; opacity: 1;\">Gujarati</text></g><g class=\"xtick\"><text text-anchor=\"start\" x=\"0\" y=\"415\" transform=\"translate(110,0) rotate(45,0,409)\" style=\"font-family: 'Open Sans', verdana, arial, sans-serif; font-size: 12px; fill: rgb(42, 63, 95); fill-opacity: 1; white-space: pre; opacity: 1;\">Romanian</text></g><g class=\"xtick\"><text text-anchor=\"start\" x=\"0\" y=\"415\" transform=\"translate(130,0) rotate(45,0,409)\" style=\"font-family: 'Open Sans', verdana, arial, sans-serif; font-size: 12px; fill: rgb(42, 63, 95); fill-opacity: 1; white-space: pre; opacity: 1;\">Malayalam</text></g><g class=\"xtick\"><text text-anchor=\"start\" x=\"0\" y=\"415\" transform=\"translate(150,0) rotate(45,0,409)\" style=\"font-family: 'Open Sans', verdana, arial, sans-serif; font-size: 12px; fill: rgb(42, 63, 95); fill-opacity: 1; white-space: pre; opacity: 1;\">Serbian</text></g><g class=\"xtick\"><text text-anchor=\"start\" x=\"0\" y=\"415\" transform=\"translate(170,0) rotate(45,0,409)\" style=\"font-family: 'Open Sans', verdana, arial, sans-serif; font-size: 12px; fill: rgb(42, 63, 95); fill-opacity: 1; white-space: pre; opacity: 1;\">Latin</text></g><g class=\"xtick\"><text text-anchor=\"start\" x=\"0\" y=\"415\" transform=\"translate(190,0) rotate(45,0,409)\" style=\"font-family: 'Open Sans', verdana, arial, sans-serif; font-size: 12px; fill: rgb(42, 63, 95); fill-opacity: 1; white-space: pre; opacity: 1;\">Finnish</text></g><g class=\"xtick\"><text text-anchor=\"start\" x=\"0\" y=\"415\" transform=\"translate(210,0) rotate(45,0,409)\" style=\"font-family: 'Open Sans', verdana, arial, sans-serif; font-size: 12px; fill: rgb(42, 63, 95); fill-opacity: 1; white-space: pre; opacity: 1;\">Greek</text></g><g class=\"xtick\"><text text-anchor=\"start\" x=\"0\" y=\"415\" transform=\"translate(230,0) rotate(45,0,409)\" style=\"font-family: 'Open Sans', verdana, arial, sans-serif; font-size: 12px; fill: rgb(42, 63, 95); fill-opacity: 1; white-space: pre; opacity: 1;\">Turkish</text></g><g class=\"xtick\"><text text-anchor=\"start\" x=\"0\" y=\"415\" transform=\"translate(250,0) rotate(45,0,409)\" style=\"font-family: 'Open Sans', verdana, arial, sans-serif; font-size: 12px; fill: rgb(42, 63, 95); fill-opacity: 1; white-space: pre; opacity: 1;\">Ukrainian</text></g><g class=\"xtick\"><text text-anchor=\"start\" x=\"0\" y=\"415\" transform=\"translate(270,0) rotate(45,0,409)\" style=\"font-family: 'Open Sans', verdana, arial, sans-serif; font-size: 12px; fill: rgb(42, 63, 95); fill-opacity: 1; white-space: pre; opacity: 1;\">Malagasy</text></g><g class=\"xtick\"><text text-anchor=\"start\" x=\"0\" y=\"415\" transform=\"translate(290,0) rotate(45,0,409)\" style=\"font-family: 'Open Sans', verdana, arial, sans-serif; font-size: 12px; fill: rgb(42, 63, 95); fill-opacity: 1; white-space: pre; opacity: 1;\">Danish</text></g><g class=\"xtick\"><text text-anchor=\"start\" x=\"0\" y=\"415\" transform=\"translate(310,0) rotate(45,0,409)\" style=\"font-family: 'Open Sans', verdana, arial, sans-serif; font-size: 12px; fill: rgb(42, 63, 95); fill-opacity: 1; white-space: pre; opacity: 1;\">Hungarian</text></g><g class=\"xtick\"><text text-anchor=\"start\" x=\"0\" y=\"415\" transform=\"translate(330,0) rotate(45,0,409)\" style=\"font-family: 'Open Sans', verdana, arial, sans-serif; font-size: 12px; fill: rgb(42, 63, 95); fill-opacity: 1; white-space: pre; opacity: 1;\">Catalan</text></g><g class=\"xtick\"><text text-anchor=\"start\" x=\"0\" y=\"415\" transform=\"translate(350,0) rotate(45,0,409)\" style=\"font-family: 'Open Sans', verdana, arial, sans-serif; font-size: 12px; fill: rgb(42, 63, 95); fill-opacity: 1; white-space: pre; opacity: 1;\">Croatian</text></g><g class=\"xtick\"><text text-anchor=\"start\" x=\"0\" y=\"415\" transform=\"translate(370,0) rotate(45,0,409)\" style=\"font-family: 'Open Sans', verdana, arial, sans-serif; font-size: 12px; fill: rgb(42, 63, 95); fill-opacity: 1; white-space: pre; opacity: 1;\">Polish</text></g><g class=\"xtick\"><text text-anchor=\"start\" x=\"0\" y=\"415\" transform=\"translate(390,0) rotate(45,0,409)\" style=\"font-family: 'Open Sans', verdana, arial, sans-serif; font-size: 12px; fill: rgb(42, 63, 95); fill-opacity: 1; white-space: pre; opacity: 1;\">Norwegian</text></g><g class=\"xtick\"><text text-anchor=\"start\" x=\"0\" y=\"415\" transform=\"translate(410,0) rotate(45,0,409)\" style=\"font-family: 'Open Sans', verdana, arial, sans-serif; font-size: 12px; fill: rgb(42, 63, 95); fill-opacity: 1; white-space: pre; opacity: 1;\">Dutch</text></g><g class=\"xtick\"><text text-anchor=\"start\" x=\"0\" y=\"415\" transform=\"translate(430,0) rotate(45,0,409)\" style=\"font-family: 'Open Sans', verdana, arial, sans-serif; font-size: 12px; fill: rgb(42, 63, 95); fill-opacity: 1; white-space: pre; opacity: 1;\">Swedish</text></g><g class=\"xtick\"><text text-anchor=\"start\" x=\"0\" y=\"415\" transform=\"translate(450,0) rotate(45,0,409)\" style=\"font-family: 'Open Sans', verdana, arial, sans-serif; font-size: 12px; fill: rgb(42, 63, 95); fill-opacity: 1; white-space: pre; opacity: 1;\">Russian</text></g><g class=\"xtick\"><text text-anchor=\"start\" x=\"0\" y=\"415\" transform=\"translate(470,0) rotate(45,0,409)\" style=\"font-family: 'Open Sans', verdana, arial, sans-serif; font-size: 12px; fill: rgb(42, 63, 95); fill-opacity: 1; white-space: pre; opacity: 1;\">Portuguese</text></g><g class=\"xtick\"><text text-anchor=\"start\" x=\"0\" y=\"415\" transform=\"translate(490,0) rotate(45,0,409)\" style=\"font-family: 'Open Sans', verdana, arial, sans-serif; font-size: 12px; fill: rgb(42, 63, 95); fill-opacity: 1; white-space: pre; opacity: 1;\">Italian</text></g><g class=\"xtick\"><text text-anchor=\"start\" x=\"0\" y=\"415\" transform=\"translate(510,0) rotate(45,0,409)\" style=\"font-family: 'Open Sans', verdana, arial, sans-serif; font-size: 12px; fill: rgb(42, 63, 95); fill-opacity: 1; white-space: pre; opacity: 1;\">German</text></g><g class=\"xtick\"><text text-anchor=\"start\" x=\"0\" y=\"415\" transform=\"translate(530,0) rotate(45,0,409)\" style=\"font-family: 'Open Sans', verdana, arial, sans-serif; font-size: 12px; fill: rgb(42, 63, 95); fill-opacity: 1; white-space: pre; opacity: 1;\">Spanish</text></g><g class=\"xtick\"><text text-anchor=\"start\" x=\"0\" y=\"415\" transform=\"translate(550,0) rotate(45,0,409)\" style=\"font-family: 'Open Sans', verdana, arial, sans-serif; font-size: 12px; fill: rgb(42, 63, 95); fill-opacity: 1; white-space: pre; opacity: 1;\">Chinese</text></g><g class=\"xtick\"><text text-anchor=\"start\" x=\"0\" y=\"415\" transform=\"translate(570,0) rotate(45,0,409)\" style=\"font-family: 'Open Sans', verdana, arial, sans-serif; font-size: 12px; fill: rgb(42, 63, 95); fill-opacity: 1; white-space: pre; opacity: 1;\">Japanese</text></g><g class=\"xtick\"><text text-anchor=\"start\" x=\"0\" y=\"415\" transform=\"translate(590,0) rotate(45,0,409)\" style=\"font-family: 'Open Sans', verdana, arial, sans-serif; font-size: 12px; fill: rgb(42, 63, 95); fill-opacity: 1; white-space: pre; opacity: 1;\">French</text></g><g class=\"xtick\"><text text-anchor=\"start\" x=\"0\" y=\"415\" transform=\"translate(610,0) rotate(45,0,409)\" style=\"font-family: 'Open Sans', verdana, arial, sans-serif; font-size: 12px; fill: rgb(42, 63, 95); fill-opacity: 1; white-space: pre; opacity: 1;\">English</text></g></g><g class=\"yaxislayer-above\"><g class=\"ytick\"><text text-anchor=\"end\" x=\"79\" y=\"4.199999999999999\" transform=\"translate(0,386.9)\" style=\"font-family: 'Open Sans', verdana, arial, sans-serif; font-size: 12px; fill: rgb(42, 63, 95); fill-opacity: 1; white-space: pre; opacity: 1;\">10</text></g><g class=\"ytick\"><text text-anchor=\"end\" x=\"79\" y=\"3.15\" style=\"font-family: 'Open Sans', verdana, arial, sans-serif; font-size: 9px; fill: rgb(42, 63, 95); fill-opacity: 1; white-space: pre; opacity: 1;\" transform=\"translate(0,365.42)\">2</text></g><g class=\"ytick\"><text text-anchor=\"end\" x=\"79\" y=\"3.15\" style=\"font-family: 'Open Sans', verdana, arial, sans-serif; font-size: 9px; fill: rgb(42, 63, 95); fill-opacity: 1; white-space: pre; opacity: 1;\" transform=\"translate(0,337.02)\">5</text></g><g class=\"ytick\"><text text-anchor=\"end\" x=\"79\" y=\"4.199999999999999\" style=\"font-family: 'Open Sans', verdana, arial, sans-serif; font-size: 12px; fill: rgb(42, 63, 95); fill-opacity: 1; white-space: pre; opacity: 1;\" transform=\"translate(0,315.53999999999996)\">100</text></g><g class=\"ytick\"><text text-anchor=\"end\" x=\"79\" y=\"3.15\" style=\"font-family: 'Open Sans', verdana, arial, sans-serif; font-size: 9px; fill: rgb(42, 63, 95); fill-opacity: 1; white-space: pre; opacity: 1;\" transform=\"translate(0,294.06)\">2</text></g><g class=\"ytick\"><text text-anchor=\"end\" x=\"79\" y=\"3.15\" style=\"font-family: 'Open Sans', verdana, arial, sans-serif; font-size: 9px; fill: rgb(42, 63, 95); fill-opacity: 1; white-space: pre; opacity: 1;\" transform=\"translate(0,265.66999999999996)\">5</text></g><g class=\"ytick\"><text text-anchor=\"end\" x=\"79\" y=\"4.199999999999999\" style=\"font-family: 'Open Sans', verdana, arial, sans-serif; font-size: 12px; fill: rgb(42, 63, 95); fill-opacity: 1; white-space: pre; opacity: 1;\" transform=\"translate(0,244.19)\">1000</text></g><g class=\"ytick\"><text text-anchor=\"end\" x=\"79\" y=\"3.15\" style=\"font-family: 'Open Sans', verdana, arial, sans-serif; font-size: 9px; fill: rgb(42, 63, 95); fill-opacity: 1; white-space: pre; opacity: 1;\" transform=\"translate(0,222.70999999999998)\">2</text></g><g class=\"ytick\"><text text-anchor=\"end\" x=\"79\" y=\"3.15\" style=\"font-family: 'Open Sans', verdana, arial, sans-serif; font-size: 9px; fill: rgb(42, 63, 95); fill-opacity: 1; white-space: pre; opacity: 1;\" transform=\"translate(0,194.31)\">5</text></g><g class=\"ytick\"><text text-anchor=\"end\" x=\"79\" y=\"4.199999999999999\" style=\"font-family: 'Open Sans', verdana, arial, sans-serif; font-size: 12px; fill: rgb(42, 63, 95); fill-opacity: 1; white-space: pre; opacity: 1;\" transform=\"translate(0,172.82999999999998)\">10k</text></g><g class=\"ytick\"><text text-anchor=\"end\" x=\"79\" y=\"3.15\" style=\"font-family: 'Open Sans', verdana, arial, sans-serif; font-size: 9px; fill: rgb(42, 63, 95); fill-opacity: 1; white-space: pre; opacity: 1;\" transform=\"translate(0,151.35)\">2</text></g><g class=\"ytick\"><text text-anchor=\"end\" x=\"79\" y=\"3.15\" style=\"font-family: 'Open Sans', verdana, arial, sans-serif; font-size: 9px; fill: rgb(42, 63, 95); fill-opacity: 1; white-space: pre; opacity: 1;\" transform=\"translate(0,122.95)\">5</text></g><g class=\"ytick\"><text text-anchor=\"end\" x=\"79\" y=\"4.199999999999999\" style=\"font-family: 'Open Sans', verdana, arial, sans-serif; font-size: 12px; fill: rgb(42, 63, 95); fill-opacity: 1; white-space: pre; opacity: 1;\" transform=\"translate(0,101.47)\">100k</text></g></g><g class=\"overaxes-above\"/></g></g><g class=\"polarlayer\"/><g class=\"smithlayer\"/><g class=\"ternarylayer\"/><g class=\"geolayer\"/><g class=\"funnelarealayer\"/><g class=\"pielayer\"/><g class=\"iciclelayer\"/><g class=\"treemaplayer\"/><g class=\"sunburstlayer\"/><g class=\"glimages\"/><defs id=\"topdefs-b43269\"><g class=\"clips\"/></defs><g class=\"layer-above\"><g class=\"imagelayer\"/><g class=\"shapelayer\"/></g><g class=\"infolayer\"><g class=\"g-gtitle\"><text class=\"gtitle\" x=\"35\" y=\"50\" text-anchor=\"start\" dy=\"0em\" style=\"font-family: 'Open Sans', verdana, arial, sans-serif; font-size: 17px; fill: rgb(42, 63, 95); opacity: 1; font-weight: normal; white-space: pre;\">Distribution of language detected in the ACL-OCL corpus</text></g><g class=\"g-xtitle\"><text class=\"xtitle\" x=\"350\" y=\"487.993359375\" text-anchor=\"middle\" style=\"font-family: 'Open Sans', verdana, arial, sans-serif; font-size: 14px; fill: rgb(42, 63, 95); opacity: 1; font-weight: normal; white-space: pre;\">Detected language</text></g><g class=\"g-ytitle\"><text class=\"ytitle\" transform=\"rotate(-90,23.653125000000003,251)\" x=\"23.653125000000003\" y=\"251\" text-anchor=\"middle\" style=\"font-family: 'Open Sans', verdana, arial, sans-serif; font-size: 14px; fill: rgb(42, 63, 95); opacity: 1; font-weight: normal; white-space: pre;\">Number of papers (log scale)</text></g></g></svg>"
      ]
     },
     "metadata": {},
     "output_type": "display_data"
    }
   ],
   "source": [
    "import plotly.graph_objects as go\n",
    "\n",
    "value_counts = df_v[\"language_detected\"].value_counts().sort_values()\n",
    "\n",
    "value_counts = value_counts[value_counts >= 10]\n",
    "\n",
    "\n",
    "#value counts everything other than english\n",
    "# value_counts = value_counts[value_counts.index != \"en\"]\n",
    "\n",
    "fig = go.Figure()\n",
    "fig.add_trace(\n",
    "    go.Bar(\n",
    "        x=[dict_langs.get(key) for key in value_counts.index],\n",
    "        y=value_counts.values,\n",
    "        # labels={'x':'Detected language'}\n",
    "    )\n",
    ")\n",
    "# change y-axis to log scale\n",
    "fig.update_yaxes(type=\"log\")\n",
    "\n",
    "# rotate the x-axis labels\n",
    "fig.update_layout(xaxis=dict(tickangle=45))\n",
    "fig.update_layout(\n",
    "        title = \"Distribution of language detected in the ACL-OCL corpus\",\n",
    "    font=dict(\n",
    "        # size=10,  # Set the font size here\n",
    "    ),\n",
    "\n",
    "xaxis_title=\"Detected language\",\n",
    "yaxis_title=\"Number of papers (log scale)\",\n",
    "\n",
    ")\n",
    "fig.show(renderer=\"svg\")"
   ]
  }
 ],
 "metadata": {
  "kernelspec": {
   "display_name": "huggingface",
   "language": "python",
   "name": "python3"
  },
  "language_info": {
   "codemirror_mode": {
    "name": "ipython",
    "version": 3
   },
   "file_extension": ".py",
   "mimetype": "text/x-python",
   "name": "python",
   "nbconvert_exporter": "python",
   "pygments_lexer": "ipython3",
   "version": "3.9.13"
  },
  "orig_nbformat": 4,
  "vscode": {
   "interpreter": {
    "hash": "7f803ac51adde5dfd4ebd776ba29591664f2b9d5f21b13f9b1bb1261418bed1e"
   }
  }
 },
 "nbformat": 4,
 "nbformat_minor": 2
}
